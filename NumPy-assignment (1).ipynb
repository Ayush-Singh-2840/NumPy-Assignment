{
 "cells": [
  {
   "cell_type": "code",
   "execution_count": 1,
   "id": "c5b81ab3-b08f-40bb-a443-a95219ddc4a6",
   "metadata": {},
   "outputs": [],
   "source": [
    "#Theoretical Questions"
   ]
  },
  {
   "cell_type": "markdown",
   "id": "1c1aa497-6501-47f4-b5fd-f6a3690ae076",
   "metadata": {},
   "source": [
    "Ouestion.1 - 1. Explain the purpose and advantages of NumPy in scientific computing and data analysis. How does it enhance Python's capabilities for numerical operations?\n",
    "\n",
    "\n",
    "\n",
    "Answer - NumPy (Numerical Python) is a fundamental package for scientific computing and data analysis in Python. It provides powerful tools for working with large, multi-dimensional arrays and matrices, along with a vast collection of mathematical functions to operate on these arrays. Here’s how NumPy enhances Python's capabilities:\n",
    "\n",
    "1. Efficient Array Handling:\n",
    "Purpose: NumPy introduces the ndarray (N-dimensional array) object, which is a fast, flexible container for large datasets in Python.\n",
    "Advantages: Arrays in NumPy are more memory-efficient and faster compared to Python’s built-in lists. This efficiency is critical for handling large datasets in scientific computing and data analysis.\n",
    "2. Vectorized Operations:\n",
    "Purpose: NumPy allows for operations on entire arrays without the need for explicit loops, known as vectorization.\n",
    "Advantages: This results in concise, readable code and significantly faster execution since operations are implemented in compiled C code behind the scenes.\n",
    "3. Broadcasting:\n",
    "Purpose: Broadcasting is a powerful feature that allows NumPy to work with arrays of different shapes in arithmetic operations.\n",
    "Advantages: It eliminates the need for explicit looping and manual resizing of arrays, simplifying code and improving performance.\n",
    "4. Extensive Mathematical Functions:\n",
    "Purpose: NumPy provides a wide range of mathematical operations, including basic arithmetic, linear algebra, random number generation, and Fourier transforms.\n",
    "Advantages: This makes it a one-stop solution for many common numerical tasks, reducing the need to rely on multiple libraries.\n",
    "5. Integration with Other Libraries:\n",
    "Purpose: NumPy serves as the base for other scientific libraries such as SciPy, Pandas, Matplotlib, and TensorFlow.\n",
    "Advantages: Its widespread adoption ensures seamless integration and compatibility, allowing for easy transitions between data manipulation, statistical analysis, and data visualization.\n",
    "6. Memory Management:\n",
    "Purpose: NumPy arrays are stored in contiguous blocks of memory, which allows for efficient computation and manipulation of large datasets.\n",
    "Advantages: This reduces overhead and speeds up computations, especially in operations like slicing, reshaping, and broadcasting.\n",
    "7. Interfacing with C/C++ and Fortran:\n",
    "Purpose: NumPy allows for integration with low-level languages like C/C++ and Fortran, enabling the use of high-performance libraries.\n",
    "Advantages: This facilitates the inclusion of legacy code or performance-critical sections of code within Python programs.\n",
    "\n",
    "\n"
   ]
  },
  {
   "cell_type": "markdown",
   "id": "3d969b85-a2cf-4f1c-bc46-9321ee67610c",
   "metadata": {},
   "source": [
    "Question.2 - Compare and contrast np.mean() and np.average() functions in NumPy. When would you use one over the other?\n",
    "\n",
    "\n",
    "Answer - In NumPy, both np.mean() and np.average() are used to compute the average of an array's elements, but they have some differences in functionality and use cases. Here's a comparison and when to use each:\n",
    "\n",
    "1. np.mean()\n",
    "Purpose: Computes the arithmetic mean (average) of the elements along the specified axis or of the entire array if no axis is specified.\n",
    "Syntax: np.mean(a, axis=None, dtype=None, out=None, keepdims=False)\n",
    "-  a: Input array.\n",
    "- axis: Axis along which the mean is computed. If None, computes the mean of the flattened array.\n",
    "- dtype: Type to use in computing the mean.\n",
    "- out: Alternate output array to place the result.\n",
    "- keepdims: If True, the reduced axes are retained as dimensions with size one.\n",
    "\n",
    "Weights: np.mean() does not support weights. All elements contribute equally to the mean.\n"
   ]
  },
  {
   "cell_type": "code",
   "execution_count": 6,
   "id": "ded421da-2d00-47c0-90fe-e54650ffe361",
   "metadata": {},
   "outputs": [],
   "source": [
    "#Usage Example \n",
    "\n",
    "import numpy as np\n",
    "data = np.array([1, 2, 3, 4])\n",
    "mean_value = np.mean(data)  # Output: 2.5"
   ]
  },
  {
   "cell_type": "markdown",
   "id": "d6964a5e-e37f-4b3b-8374-5c651927aace",
   "metadata": {},
   "source": [
    "2. np.average()\n",
    "Purpose: Computes the weighted average of the elements along the specified axis or of the entire array if no axis is specified. If no weights are provided, it functions the same as np.mean().\n",
    "- Syntax: np.average(a, axis=None, weights=None, returned=False)\n",
    "  a: Input array.\n",
    "  axis: Axis along which the average is computed. If None, computes the average of the flattened array.\n",
    "  weights: Array of weights associated with the values in a. If None, computes the arithmetic mean.\n",
    "  returned: If True, returns a tuple containing the average and the sum of the weights.\n",
    "  Weights: np.average() supports weights, allowing you to assign different importance to different elements."
   ]
  },
  {
   "cell_type": "code",
   "execution_count": 9,
   "id": "92e1f3dc-338a-4b7e-ba3a-ccadb78e9e8a",
   "metadata": {},
   "outputs": [],
   "source": [
    "#Usage Example \n",
    "\n",
    "import numpy as np\n",
    "data = np.array([1, 2, 3, 4])\n",
    "weights = np.array([1, 1, 2, 2])\n",
    "weighted_avg = np.average(data, weights=weights)  # Output: 3.0\n"
   ]
  },
  {
   "cell_type": "markdown",
   "id": "1451831e-6ffb-44fc-96e4-5f4db07bda95",
   "metadata": {},
   "source": [
    "- When to Use One Over the Other:\n",
    "\n",
    "Use np.mean() when you need the simple arithmetic mean and don’t require any weighting of the elements.\n",
    "\n",
    "Example: Calculating the average temperature over a week without considering the duration of each recorded period.\n",
    "Use np.average() when you need to compute a weighted average, where different elements in the array have different levels of importance or influence.\n",
    "\n",
    "Example: Calculating the average grade in a course where different assignments have different weights."
   ]
  },
  {
   "cell_type": "markdown",
   "id": "6024fe5e-2a93-43e2-a83f-f7226e54ace1",
   "metadata": {},
   "source": [
    "Question.3 -  Describe the methods for reversing a NumPy array along different axes. Provide examples for 1D and 2D arrays.\n",
    "\n",
    "Answer - 1. Reversing a 1D Array\n",
    "A 1D array is a single-dimensional array (like a list in Python). Reversing a 1D array involves flipping the order of its elements.\n",
    "\n",
    "- Method 1: Using Slicing\n",
    "\n",
    "You can reverse a 1D array by slicing it with a step of -1.\n"
   ]
  },
  {
   "cell_type": "code",
   "execution_count": 8,
   "id": "9d95bf21-c92e-4bd0-a03e-3f77058d7a0c",
   "metadata": {},
   "outputs": [
    {
     "name": "stdout",
     "output_type": "stream",
     "text": [
      "[5 4 3 2 1]\n"
     ]
    }
   ],
   "source": [
    "#Example \n",
    "\n",
    "import numpy as np\n",
    "arr = np.array([1, 2, 3, 4, 5])\n",
    "reversed_arr = arr[::-1]\n",
    "print(reversed_arr)  # Output: [5 4 3 2 1]\n"
   ]
  },
  {
   "cell_type": "markdown",
   "id": "c3c737bc-320d-415e-8e38-b12d9221ed88",
   "metadata": {},
   "source": [
    "- Method 2: Using np.flip()\n",
    "\n",
    "The np.flip() function reverses the order of elements along a specified axis. For a 1D array, it behaves the same as slicing with -1."
   ]
  },
  {
   "cell_type": "code",
   "execution_count": 11,
   "id": "af3f5c08-abb1-401e-b1e3-05caa17643b2",
   "metadata": {},
   "outputs": [
    {
     "name": "stdout",
     "output_type": "stream",
     "text": [
      "[5 4 3 2 1]\n"
     ]
    }
   ],
   "source": [
    "#Example\n",
    "\n",
    "reversed_arr_1d = np.flip(arr)\n",
    "print(reversed_arr_1d)\n"
   ]
  },
  {
   "cell_type": "markdown",
   "id": "945dab38-b048-4bdf-b3ac-d7bbab8cfb0a",
   "metadata": {},
   "source": [
    "2. Reversing a 2D Array\n",
    "Method 1: Reversing Along Rows (Axis 0)\n",
    "Description: To reverse the rows of a 2D array (flip the array vertically), you can use slicing [::-1, :] or np.flip(arr_2d, axis=0).\n"
   ]
  },
  {
   "cell_type": "code",
   "execution_count": 12,
   "id": "526fe766-53ba-4db4-b732-061295605fed",
   "metadata": {},
   "outputs": [
    {
     "name": "stdout",
     "output_type": "stream",
     "text": [
      "[[7 8 9]\n",
      " [4 5 6]\n",
      " [1 2 3]]\n",
      "[[7 8 9]\n",
      " [4 5 6]\n",
      " [1 2 3]]\n"
     ]
    }
   ],
   "source": [
    "#Example\n",
    "\n",
    "arr_2d = np.array([[1, 2, 3], [4, 5, 6], [7, 8, 9]])\n",
    "\n",
    "# Using slicing\n",
    "reversed_rows = arr_2d[::-1, :]\n",
    "print(reversed_rows)\n",
    "\n",
    "# Using np.flip\n",
    "reversed_rows = np.flip(arr_2d, axis=0)\n",
    "print(reversed_rows)\n"
   ]
  },
  {
   "cell_type": "markdown",
   "id": "f7dd1dcf-1cc7-47ae-80b9-0a20597f2dcd",
   "metadata": {},
   "source": [
    "Method 2: Reversing Along Columns (Axis 1)\n",
    "Description: To reverse the columns of a 2D array (flip the array horizontally), you can use slicing [:, ::-1] or np.flip(arr_2d, axis=1)."
   ]
  },
  {
   "cell_type": "code",
   "execution_count": 13,
   "id": "d1967968-b3f5-4d49-8812-035a66c405cc",
   "metadata": {},
   "outputs": [
    {
     "name": "stdout",
     "output_type": "stream",
     "text": [
      "[[3 2 1]\n",
      " [6 5 4]\n",
      " [9 8 7]]\n",
      "[[3 2 1]\n",
      " [6 5 4]\n",
      " [9 8 7]]\n"
     ]
    }
   ],
   "source": [
    "# Using slicing\n",
    "reversed_cols = arr_2d[:, ::-1]\n",
    "print(reversed_cols)\n",
    "\n",
    "# Using np.flip\n",
    "reversed_cols = np.flip(arr_2d, axis=1)\n",
    "print(reversed_cols)\n"
   ]
  },
  {
   "cell_type": "markdown",
   "id": "247acc76-297c-4fa7-876e-623116a8deae",
   "metadata": {},
   "source": [
    "Method 3: Reversing Both Axes (180° Rotation)\n",
    "Description: To reverse both rows and columns (rotate the array by 180°), you can combine the two slicing methods or use np.flip() with both axe"
   ]
  },
  {
   "cell_type": "code",
   "execution_count": 14,
   "id": "e54eebd3-8bfb-4433-9e2b-8c3d46f1d303",
   "metadata": {},
   "outputs": [
    {
     "name": "stdout",
     "output_type": "stream",
     "text": [
      "[[9 8 7]\n",
      " [6 5 4]\n",
      " [3 2 1]]\n",
      "[[9 8 7]\n",
      " [6 5 4]\n",
      " [3 2 1]]\n"
     ]
    }
   ],
   "source": [
    "# Using slicing\n",
    "reversed_both = arr_2d[::-1, ::-1]\n",
    "print(reversed_both)\n",
    "\n",
    "# Using np.flip\n",
    "reversed_both = np.flip(arr_2d)\n",
    "print(reversed_both)\n"
   ]
  },
  {
   "cell_type": "markdown",
   "id": "be0d5eb6-26c1-446a-80ec-122e030fb857",
   "metadata": {},
   "source": [
    "\n",
    "\n",
    "\n",
    "\n",
    "Question.4 - How can you determine the data type of elements in a NumPy array? Discuss the importance of data types in memory management and performance.\n",
    "\n",
    "\n",
    "Answer - Determining the Data Type of Elements in a NumPy Array.\n",
    "\n",
    "In NumPy, you can determine the data type of elements in an array using the .dtype attribute. This attribute returns a dtype object that describes the data type of the elements in the array."
   ]
  },
  {
   "cell_type": "code",
   "execution_count": 15,
   "id": "2bbec9cc-6137-471e-86a3-bd685cae90e7",
   "metadata": {},
   "outputs": [
    {
     "name": "stdout",
     "output_type": "stream",
     "text": [
      "int64\n"
     ]
    }
   ],
   "source": [
    "#Example\n",
    "\n",
    "import numpy as np\n",
    "\n",
    "# Create an array\n",
    "arr = np.array([1, 2, 3, 4])\n",
    "\n",
    "# Determine the data type\n",
    "data_type = arr.dtype\n",
    "print(data_type)\n"
   ]
  },
  {
   "cell_type": "markdown",
   "id": "38fd7ba5-59f1-460a-bdb5-56051d9af55e",
   "metadata": {},
   "source": [
    "Importance of Data Types in Memory Management and Performance\n",
    "Data types (dtype) in NumPy are crucial for both memory management and performance. Here's why:\n",
    "\n",
    "1. Memory Management\n",
    "\n",
    " Fixed Size: Each data type in NumPy has a fixed size in memory. For example, an int32 uses 4 bytes, while a float64 uses 8 bytes. Knowing the data type helps you understand how much memory an array will consume.\n",
    "\n",
    " Efficient Storage: Choosing the appropriate data type can optimize memory usage. For instance, using int8 (1 byte) instead of int64 (8 bytes) for a small range of integers can significantly reduce memory consumption, especially for large arrays.\n",
    "\n",
    " Memory Alignment: NumPy arrays are stored in contiguous blocks of memory, which optimizes cache usage and speeds up computations. Proper alignment of data types in memory further enhances performance.\n",
    "\n",
    "2. Performance\n",
    "\n",
    " Vectorized Operations: NumPy performs operations in a vectorized manner, meaning operations are applied to entire arrays rather than individual elements. The speed of these operations depends on the data type, as certain operations (e.g., arithmetic) are faster on smaller or simpler data types (e.g., int32 vs. int64).\n",
    " \n",
    " Avoiding Type Casting: If operations involve arrays of different data types, NumPy may need to cast them to a common type, which can introduce overhead. -Ensuring that arrays have compatible data types can eliminate unnecessary type casting and improve performance.\n",
    " \n",
    " Specialized Instructions: Modern CPUs have specialized instructions for certain data types (e.g., SIMD instructions for floating-point arithmetic). By using the appropriate data type, NumPy can leverage these instructions, leading to faster computations.\n",
    " \n",
    "Choosing the Right Data Type: \n",
    "\n",
    " For Small Integers: Use int8, int16, or int32 to save memory if the range of values is small.\n",
    " \n",
    " For Floating-Point Numbers: Use float32 for single precision or float64 for double precision, depending on the required accuracy.\n",
    " \n",
    " For Boolean Values: Use bool, which only requires 1 bit per element, making it highly memory-efficient."
   ]
  },
  {
   "cell_type": "code",
   "execution_count": 16,
   "id": "86425967-d2e5-4bcf-b7b7-f0870564d805",
   "metadata": {},
   "outputs": [
    {
     "name": "stdout",
     "output_type": "stream",
     "text": [
      "Time for int32: 0.006175994873046875\n",
      "Time for int64: 0.005044221878051758\n"
     ]
    }
   ],
   "source": [
    "#Example: Memory and Performance Impact\n",
    "\n",
    "import numpy as np\n",
    "import time\n",
    "\n",
    "# Large array with int32 data type\n",
    "arr_int32 = np.ones(10000000, dtype=np.int32)\n",
    "\n",
    "# Large array with int64 data type\n",
    "arr_int64 = np.ones(10000000, dtype=np.int64)\n",
    "\n",
    "# Timing a simple operation\n",
    "start_time = time.time()\n",
    "arr_int32_sum = np.sum(arr_int32)\n",
    "print(\"Time for int32:\", time.time() - start_time)\n",
    "\n",
    "start_time = time.time()\n",
    "arr_int64_sum = np.sum(arr_int64)\n",
    "print(\"Time for int64:\", time.time() - start_time)\n"
   ]
  },
  {
   "cell_type": "markdown",
   "id": "ba3079c0-0371-44a1-a373-e5b0c3f02dbb",
   "metadata": {},
   "source": [
    "\n",
    "\n",
    "Question.5 -  Define ndarrays in NumPy and explain their key features. How do they differ from standard Python lists?\n",
    "\n",
    "Answer - Defining ndarrays in NumPy\n",
    "In NumPy, an ndarray (short for N-dimensional array) is a powerful data structure that represents a grid of values, all of the same type, indexed by a tuple of non-negative integers. The number of dimensions is determined by the array's shape, and each dimension is referred to as an axis."
   ]
  },
  {
   "cell_type": "code",
   "execution_count": 17,
   "id": "b62abd1e-05fe-4523-9bcb-2104c417b7bb",
   "metadata": {},
   "outputs": [
    {
     "name": "stdout",
     "output_type": "stream",
     "text": [
      "[[1 2 3]\n",
      " [4 5 6]]\n"
     ]
    }
   ],
   "source": [
    "#Example \n",
    "\n",
    "import numpy as np\n",
    "\n",
    "# Creating a 2D ndarray\n",
    "arr = np.array([[1, 2, 3], [4, 5, 6]])\n",
    "print(arr)\n"
   ]
  },
  {
   "cell_type": "markdown",
   "id": "56def664-f53b-4954-afda-74ebe4b70637",
   "metadata": {},
   "source": [
    "- Key Features of ndarrays\n",
    "\n",
    "1.Homogeneous Data Types:\n",
    "\n",
    "All elements in an ndarray have the same data type (dtype). This consistency allows for more efficient storage and operations.\n",
    "\n",
    "\n",
    "Example - print(arr.dtype)  # Output: int64\n",
    "\n",
    "\n",
    "2. Fixed Size:\n",
    "\n",
    "Once created, the size of an ndarray is fixed, meaning you cannot change the number of elements without creating a new array. This is different from Python lists, which can dynamically grow or shrink.\n",
    "\n",
    "3. N-dimensional:\n",
    "\n",
    "ndarrays can have any number of dimensions (axes), making them suitable for representing complex datasets such as matrices, images, or higher-dimensional data.\n",
    "\n",
    "Example - print(arr.shape)  # Output: (2, 3) - 2 rows and 3 columns\n",
    "\n",
    "\n",
    "4. Efficient Memory Storage:\n",
    "\n",
    "ndarrays are stored in contiguous blocks of memory, which enhances performance by improving cache efficiency and reducing memory overhead.\n",
    "\n",
    "5. Vectorized Operations:\n",
    "\n",
    "NumPy supports vectorized operations, meaning operations can be applied to entire arrays without the need for explicit loops. This is much faster and more concise than operating on individual elements, as you would with Python lists.\n",
    "\n",
    "#Example arr2 = arr * 2\n",
    "print(arr2)  # Output: [[2 4 6] [8 10 12]]\n",
    "\n",
    "\n",
    "6. Broadcasting:\n",
    "\n",
    "Broadcasting allows NumPy to perform operations on arrays of different shapes. This feature makes it easy to apply operations across arrays without needing to explicitly match their shapes.\n",
    "\n",
    "\n",
    "#Example arr3 = arr + np.array([1, 2, 3])\n",
    "print(arr3)  # Output: [[2 4 6] [5 7 9]]\n",
    "\n",
    "\n",
    "7. Rich Mathematical Functions:\n",
    "\n",
    "NumPy provides a vast array of functions that operate on ndarrays, including statistical operations, linear algebra, and random number generation.\n",
    "\n",
    "8. Slicing and Indexing:\n",
    "\n",
    "ndarrays support advanced slicing and indexing techniques, which allow for easy manipulation of data.\n",
    "\n",
    "\n",
    "\n",
    "- Differences Between ndarrays and Python Lists\n",
    "\n",
    "1. Data Type Homogeneity:\n",
    "\n",
    "ndarray: All elements must be of the same data type.\n",
    "List: Can contain elements of different data types (e.g., integers, strings, floats).\n",
    "\n",
    "2. Memory Efficiency:\n",
    "\n",
    "ndarray: Stored in a contiguous block of memory, leading to more efficient use of memory and faster access.\n",
    "List: Elements are stored as separate objects, leading to more memory overhead.\n",
    "\n",
    "3. Performance:\n",
    "\n",
    "ndarray: Operations are highly optimized and performed in compiled C code, making them much faster, especially for large datasets.\n",
    "List: Operations are performed in Python, which is slower, especially when operating on large datasets.\n",
    "\n",
    "4. Fixed Size vs. Dynamic Size:\n",
    "\n",
    "ndarray: Fixed size; you cannot change the size without creating a new array.\n",
    "List: Dynamic size; you can easily add or remove elements.\n",
    "\n",
    "5. Dimensionality:\n",
    "\n",
    "ndarray: Naturally supports multiple dimensions (e.g., 2D arrays, 3D arrays).\n",
    "List: Typically 1D, but can be nested to create multi-dimensional structures, though with more complexity and less efficiency.\n",
    "\n",
    "6. Broadcasting:\n",
    "\n",
    "ndarray: Supports broadcasting, allowing for operations between arrays of different shapes.\n",
    "List: Does not support broadcasting; operations between lists of different sizes require manual iteration.\n",
    "\n",
    "7. Mathematical Operations:\n",
    "\n",
    "ndarray: Supports element-wise operations directly (e.g., addition, multiplication).\n",
    "List: Requires looping or list comprehensions for element-wise operations.\n"
   ]
  },
  {
   "cell_type": "markdown",
   "id": "5ab42acb-5eef-4f87-8a4c-cb55c2e42f6c",
   "metadata": {},
   "source": [
    " Question.6 - Analyze the performance benefits of NumPy arrays over Python lists for large-scale numerical operations.\n",
    " \n",
    " Answer - NumPy arrays offer significant performance benefits over Python lists for large-scale numerical operations due to the following reasons:\n",
    "\n",
    "1- Memory Efficiency: NumPy arrays store elements in contiguous memory blocks, reducing overhead and enabling faster access compared to Python lists, which store elements as separate objects.\n",
    "\n",
    "2- Vectorized Operations: NumPy performs operations on entire arrays in compiled C code without explicit loops, leading to much faster execution compared to Python lists, which require loops in Python.\n",
    "\n",
    "3- Homogeneous Data Types: NumPy arrays enforce a single data type for all elements, allowing for optimized and consistent processing, while Python lists can contain mixed types, leading to slower operations.\n",
    "\n",
    "4- Broadcasting: NumPy supports broadcasting, which allows operations on arrays of different shapes without manual iteration, further enhancing performance."
   ]
  },
  {
   "cell_type": "markdown",
   "id": "fcf09f6a-fb2f-4baa-8875-500349debc2b",
   "metadata": {},
   "source": [
    "Question.7 - Compare vstack() and hstack() functions in NumPy. Provide examples demonstrating their usage and output.\n",
    "\n",
    "Answer - In NumPy, vstack() and hstack() are used to stack arrays along different axes:\n",
    "\n",
    "- vstack() (Vertical Stack):\n",
    "- Description: Stacks arrays vertically (row-wise), adding rows.\n",
    "- Usage: Arrays must have the same number of columns."
   ]
  },
  {
   "cell_type": "code",
   "execution_count": 18,
   "id": "5b511a7f-d04d-42c5-b658-4d30cae645ab",
   "metadata": {},
   "outputs": [
    {
     "name": "stdout",
     "output_type": "stream",
     "text": [
      "[[1 2 3]\n",
      " [4 5 6]]\n"
     ]
    }
   ],
   "source": [
    "#Example \n",
    "\n",
    "import numpy as np\n",
    "arr1 = np.array([1, 2, 3])\n",
    "arr2 = np.array([4, 5, 6])\n",
    "result = np.vstack((arr1, arr2))\n",
    "print(result)\n"
   ]
  },
  {
   "cell_type": "markdown",
   "id": "8e55bc6c-2aa2-4408-bfa4-9527814e2417",
   "metadata": {},
   "source": [
    "hstack() (Horizontal Stack):\n",
    "\n",
    "Description: Stacks arrays horizontally (column-wise), adding columns.\n",
    "Usage: Arrays must have the same number of rows."
   ]
  },
  {
   "cell_type": "code",
   "execution_count": 19,
   "id": "e63e4938-d52f-43df-af91-1566bb0fff54",
   "metadata": {},
   "outputs": [
    {
     "name": "stdout",
     "output_type": "stream",
     "text": [
      "[1 2 3 4 5 6]\n"
     ]
    }
   ],
   "source": [
    "#Example\n",
    "\n",
    "result = np.hstack((arr1, arr2))\n",
    "print(result)\n"
   ]
  },
  {
   "cell_type": "markdown",
   "id": "1eb74b04-681f-4b71-8685-e49fdb6e181c",
   "metadata": {},
   "source": [
    "Question.8 - Explain the differences between fliplr() and flipud() methods in NumPy, including their effects on various array dimensions.\n",
    "\n",
    "Answer - In NumPy, fliplr() and flipud() are used to flip arrays along different axes:\n",
    "\n",
    "fliplr() (Flip Left-Right):\n",
    "\n",
    "Description: fliplr() flips the array horizontally, meaning it reverses the order of columns.\n",
    "Effect: It operates along the second axis (axis 1), reversing the elements in each row.\n",
    "Applicable: Primarily used for 2D arrays but can also be applied to higher-dimensional arrays where it flips the last axis (columns)."
   ]
  },
  {
   "cell_type": "code",
   "execution_count": 22,
   "id": "e9d4fa59-ac33-4f79-a897-39b4344a4669",
   "metadata": {},
   "outputs": [
    {
     "name": "stdout",
     "output_type": "stream",
     "text": [
      "[[3 2 1]\n",
      " [6 5 4]\n",
      " [9 8 7]]\n"
     ]
    }
   ],
   "source": [
    "#Example \n",
    "\n",
    "import numpy as np\n",
    "\n",
    "arr = np.array([[1, 2, 3], [4, 5, 6], [7, 8, 9]])\n",
    "result = np.fliplr(arr)\n",
    "print(result)\n"
   ]
  },
  {
   "cell_type": "markdown",
   "id": "c2cbb135-a9dc-4aa6-a1a8-8d5744f44e40",
   "metadata": {},
   "source": [
    "flipud() (Flip Up-Down):\n",
    "\n",
    "Description: flipud() flips the array vertically, meaning it reverses the order of rows.\n",
    "Effect: It operates along the first axis (axis 0), reversing the order of rows.\n",
    "Applicable: Used for both 2D arrays and higher-dimensional arrays, where it flips the first axis (rows)."
   ]
  },
  {
   "cell_type": "code",
   "execution_count": 23,
   "id": "5d751b90-d0d6-4dc2-8023-02c4fcb08c4f",
   "metadata": {},
   "outputs": [
    {
     "name": "stdout",
     "output_type": "stream",
     "text": [
      "[[7 8 9]\n",
      " [4 5 6]\n",
      " [1 2 3]]\n"
     ]
    }
   ],
   "source": [
    "#Example\n",
    "\n",
    "result = np.flipud(arr)\n",
    "print(result)\n"
   ]
  },
  {
   "cell_type": "markdown",
   "id": "c10b1434-8a52-4dc4-9885-03f7a2340aef",
   "metadata": {},
   "source": [
    "Question.9. Discuss the functionality of the array_split() method in NumPy. How does it handle uneven splits?\n",
    "\n",
    "Answer - Functionality of array_split() in NumPy\n",
    "\n",
    "The array_split() method in NumPy is used to split an array into multiple sub-arrays. It allows you to specify the number of splits or the exact indices where the array should be split.\n",
    "\n",
    "How array_split() Handles Uneven Splits\n",
    "\n",
    "When the array cannot be evenly divided, array_split() handles this by distributing the elements as evenly as possible among the sub-arrays. If the total number of elements does not divide evenly by the specified number of splits, the function creates sub-arrays with different sizes, with the earlier sub-arrays being slightly larger."
   ]
  },
  {
   "cell_type": "code",
   "execution_count": 24,
   "id": "9c3f3648-3ce4-4341-b8e2-802a5291bd3c",
   "metadata": {},
   "outputs": [
    {
     "name": "stdout",
     "output_type": "stream",
     "text": [
      "[1 2 3]\n",
      "[4 5]\n",
      "[6 7]\n"
     ]
    }
   ],
   "source": [
    "#Example \n",
    "\n",
    "import numpy as np\n",
    "\n",
    "# Create an array of 7 elements\n",
    "arr = np.array([1, 2, 3, 4, 5, 6, 7])\n",
    "\n",
    "# Split the array into 3 parts\n",
    "result = np.array_split(arr, 3)\n",
    "\n",
    "for sub_array in result:\n",
    "    print(sub_array)\n"
   ]
  },
  {
   "cell_type": "raw",
   "id": "e9959e1b-3f65-4c05-8837-ce09ae2e570c",
   "metadata": {},
   "source": [
    "Explanation:\n",
    "    \n",
    "The array has 7 elements, and we want to split it into 3 parts.\n",
    "The first sub-array gets 3 elements, and the remaining sub-arrays get 2 elements each.\n",
    "array_split() ensures that the difference in size between the sub-arrays is minimal."
   ]
  },
  {
   "cell_type": "markdown",
   "id": "6b5c5958-ebff-4d84-b10d-5074f78c45d6",
   "metadata": {},
   "source": [
    "Question.10 -Explain the concepts of vectorization and broadcasting in NumPy. How do they contribute to efficient array operations?\n",
    "\n",
    "Answer - Vectorization and Broadcasting in NumPy\n",
    "\n",
    "Vectorization and broadcasting are key concepts in NumPy that enhance the efficiency of array operations by leveraging optimized, low-level computations.\n",
    "\n",
    "Vectorization\n",
    "\n",
    "Concept: Vectorization refers to the process of performing operations on entire arrays rather than individual elements. It uses optimized, compiled code (often in C) to apply operations across all elements simultaneously.\n",
    "\n",
    "How It Works: Instead of using explicit Python loops, vectorized operations apply mathematical functions directly to the whole array. This reduces the overhead of Python loops and takes advantage of low-level optimizations and parallelism."
   ]
  },
  {
   "cell_type": "code",
   "execution_count": 25,
   "id": "f3978a7c-9558-4131-a42a-167ee574a523",
   "metadata": {},
   "outputs": [
    {
     "name": "stdout",
     "output_type": "stream",
     "text": [
      "[5 7 9]\n"
     ]
    }
   ],
   "source": [
    "#Example \n",
    "\n",
    "import numpy as np\n",
    "\n",
    "# Create two arrays\n",
    "arr1 = np.array([1, 2, 3])\n",
    "arr2 = np.array([4, 5, 6])\n",
    "\n",
    "# Vectorized addition\n",
    "result = arr1 + arr2\n",
    "print(result)\n"
   ]
  },
  {
   "cell_type": "raw",
   "id": "fe18d6c7-2469-4a7a-b4af-6b46f40f4dd2",
   "metadata": {},
   "source": [
    "Broadcasting\n",
    "\n",
    "Concept: Broadcasting is a technique that allows NumPy to perform element-wise operations on arrays of different shapes. It extends the smaller array to match the shape of the larger array in a way that is efficient and memory-friendly.\n",
    "How It Works: When performing operations on arrays with different shapes, NumPy automatically adjusts (or broadcasts) the smaller array to match the dimensions of the larger array without actually copying data."
   ]
  },
  {
   "cell_type": "code",
   "execution_count": 26,
   "id": "a7178b25-00c6-468a-b061-e06b8f9bd923",
   "metadata": {},
   "outputs": [
    {
     "name": "stdout",
     "output_type": "stream",
     "text": [
      "[[11 22 33]\n",
      " [14 25 36]]\n"
     ]
    }
   ],
   "source": [
    "#Example\n",
    "\n",
    "import numpy as np\n",
    "\n",
    "# Create a 2D array and a 1D array\n",
    "arr_2d = np.array([[1, 2, 3], [4, 5, 6]])\n",
    "arr_1d = np.array([10, 20, 30])\n",
    "\n",
    "# Broadcasting: Add the 1D array to each row of the 2D array\n",
    "result = arr_2d + arr_1d\n",
    "print(result)\n"
   ]
  },
  {
   "cell_type": "markdown",
   "id": "a8fd6ff5-bf50-4734-ba8d-527c19d200ed",
   "metadata": {},
   "source": [
    "- Contributions to Efficient Array Operations\n",
    "\n",
    "1.Speed: Vectorization and broadcasting leverage highly optimized, compiled code for operations, which is much faster than equivalent Python loops.\n",
    "\n",
    "2.Memory Efficiency: Broadcasting avoids the need to create large intermediate arrays by expanding the smaller array virtually, which saves memory and reduces overhead.\n",
    "\n",
    "3.Code Simplicity: Both techniques simplify code by allowing concise, high-level operations instead of complex nested loops and manual array manipulation."
   ]
  },
  {
   "cell_type": "code",
   "execution_count": null,
   "id": "5595f0e4-512e-4a7d-8e80-e60975538c97",
   "metadata": {},
   "outputs": [],
   "source": [
    "\n",
    "\n"
   ]
  },
  {
   "cell_type": "markdown",
   "id": "e0b44e7f-c602-40c3-8772-ef7411db1131",
   "metadata": {},
   "source": [
    "Practical Questions:"
   ]
  },
  {
   "cell_type": "markdown",
   "id": "3f202da3-8893-4eec-a7d1-86627083b5e3",
   "metadata": {},
   "source": [
    "Question 1. Create a 3x3 NumPy array with random integers between 1 and 100. Then, interchange its rows and columns."
   ]
  },
  {
   "cell_type": "code",
   "execution_count": 29,
   "id": "5a766e53-16ed-4294-8373-15a228575942",
   "metadata": {},
   "outputs": [
    {
     "name": "stdout",
     "output_type": "stream",
     "text": [
      "Original array:\n",
      "[[ 3 98 50]\n",
      " [43 29 75]\n",
      " [81 93  1]]\n",
      "\n",
      "Transposed array:\n",
      "[[ 3 43 81]\n",
      " [98 29 93]\n",
      " [50 75  1]]\n"
     ]
    }
   ],
   "source": [
    "import numpy as np\n",
    "\n",
    "# Step 1: Create a 3x3 array with random integers between 1 and 100\n",
    "arr = np.random.randint(1, 101, size=(3, 3))\n",
    "print(\"Original array:\")\n",
    "print(arr)\n",
    "\n",
    "# Step 2: Interchange rows and columns by transposing the array\n",
    "transposed_arr = np.transpose(arr)\n",
    "print(\"\\nTransposed array:\")\n",
    "print(transposed_arr)\n"
   ]
  },
  {
   "cell_type": "markdown",
   "id": "bbea54b1-f40f-4184-87a1-edd94e625eb6",
   "metadata": {},
   "source": [
    "Question 2. Generate a 1D NumPy array with 10 elements. Reshape it into a 2x5 array, then into a 5x2 array."
   ]
  },
  {
   "cell_type": "code",
   "execution_count": 30,
   "id": "7d7bc4aa-24fb-4019-9e24-f2d634fc113b",
   "metadata": {},
   "outputs": [
    {
     "name": "stdout",
     "output_type": "stream",
     "text": [
      "Original 1D array:\n",
      "[0 1 2 3 4 5 6 7 8 9]\n",
      "\n",
      "Reshaped to 2x5 array:\n",
      "[[0 1 2 3 4]\n",
      " [5 6 7 8 9]]\n",
      "\n",
      "Reshaped to 5x2 array:\n",
      "[[0 1]\n",
      " [2 3]\n",
      " [4 5]\n",
      " [6 7]\n",
      " [8 9]]\n"
     ]
    }
   ],
   "source": [
    "import numpy as np\n",
    "\n",
    "# Step 1: Generate a 1D array with 10 elements\n",
    "arr = np.arange(10)  # Creates an array with elements [0, 1, 2, ..., 9]\n",
    "print(\"Original 1D array:\")\n",
    "print(arr)\n",
    "\n",
    "# Step 2: Reshape it into a 2x5 array\n",
    "arr_2x5 = arr.reshape(2, 5)\n",
    "print(\"\\nReshaped to 2x5 array:\")\n",
    "print(arr_2x5)\n",
    "\n",
    "# Step 3: Reshape it into a 5x2 array\n",
    "arr_5x2 = arr.reshape(5, 2)\n",
    "print(\"\\nReshaped to 5x2 array:\")\n",
    "print(arr_5x2)\n"
   ]
  },
  {
   "cell_type": "markdown",
   "id": "afac0af8-2f25-41fc-adae-6def44be01df",
   "metadata": {},
   "source": [
    "Question.3 -  Create a 4x4 NumPy array with random float values. Add a border of zeros around it, resulting in a 6x6 array"
   ]
  },
  {
   "cell_type": "code",
   "execution_count": 31,
   "id": "f8ca702f-fd7e-493f-9e95-ab00f8e6476f",
   "metadata": {},
   "outputs": [
    {
     "name": "stdout",
     "output_type": "stream",
     "text": [
      "Original 4x4 array:\n",
      "[[0.65800856 0.8036359  0.0160114  0.112998  ]\n",
      " [0.55458353 0.60943861 0.39913505 0.11783976]\n",
      " [0.96584268 0.89114275 0.60206451 0.77544791]\n",
      " [0.44523266 0.26982491 0.6648768  0.90209018]]\n",
      "\n",
      "4x4 array with a border of zeros:\n",
      "[[0.         0.         0.         0.         0.         0.        ]\n",
      " [0.         0.65800856 0.8036359  0.0160114  0.112998   0.        ]\n",
      " [0.         0.55458353 0.60943861 0.39913505 0.11783976 0.        ]\n",
      " [0.         0.96584268 0.89114275 0.60206451 0.77544791 0.        ]\n",
      " [0.         0.44523266 0.26982491 0.6648768  0.90209018 0.        ]\n",
      " [0.         0.         0.         0.         0.         0.        ]]\n"
     ]
    }
   ],
   "source": [
    "import numpy as np\n",
    "\n",
    "# Step 1: Create a 4x4 array with random float values\n",
    "arr = np.random.random((4, 4))  # Generates random floats between 0 and 1\n",
    "print(\"Original 4x4 array:\")\n",
    "print(arr)\n",
    "\n",
    "# Step 2: Add a border of zeros around the array\n",
    "# Create a new array of zeros with shape (6, 6)\n",
    "bordered_arr = np.zeros((6, 6))\n",
    "\n",
    "# Place the original array in the center of the new array\n",
    "bordered_arr[1:-1, 1:-1] = arr\n",
    "\n",
    "print(\"\\n4x4 array with a border of zeros:\")\n",
    "print(bordered_arr)\n"
   ]
  },
  {
   "cell_type": "markdown",
   "id": "89f2ec1f-918c-440e-867f-c903d83e1872",
   "metadata": {},
   "source": [
    "Question.4 -Using NumPy, create an array of integers from 10 to 60 with a step of 5."
   ]
  },
  {
   "cell_type": "code",
   "execution_count": 32,
   "id": "06374f7c-73a7-498a-b0a7-eb215e4b7214",
   "metadata": {},
   "outputs": [
    {
     "name": "stdout",
     "output_type": "stream",
     "text": [
      "[10 15 20 25 30 35 40 45 50 55 60]\n"
     ]
    }
   ],
   "source": [
    "import numpy as np\n",
    "\n",
    "# Create an array of integers from 10 to 60 with a step of 5\n",
    "arr = np.arange(10, 65, 5)  # Note: 65 is used as the stop value to include 60 in the array\n",
    "print(arr)\n"
   ]
  },
  {
   "cell_type": "markdown",
   "id": "4a3d2903-32f4-40b3-9e22-e25748cc3d41",
   "metadata": {},
   "source": [
    "Question. 5 - Create a NumPy array of strings ['python', 'numpy', 'pandas']. Apply different case transformations\n",
    "(uppercase, lowercase, title case, etc.) to each element."
   ]
  },
  {
   "cell_type": "code",
   "execution_count": 33,
   "id": "c6e57776-eee7-47b5-9df9-520d22ad3c91",
   "metadata": {},
   "outputs": [
    {
     "name": "stdout",
     "output_type": "stream",
     "text": [
      "Original array:\n",
      "['python' 'numpy' 'pandas']\n",
      "\n",
      "Uppercase array:\n",
      "['PYTHON' 'NUMPY' 'PANDAS']\n",
      "\n",
      "Lowercase array:\n",
      "['python' 'numpy' 'pandas']\n",
      "\n",
      "Titlecase array:\n",
      "['Python' 'Numpy' 'Pandas']\n",
      "\n",
      "Capitalize array:\n",
      "['Python' 'Numpy' 'Pandas']\n"
     ]
    }
   ],
   "source": [
    "import numpy as np\n",
    "\n",
    "# Create a NumPy array of strings\n",
    "arr = np.array(['python', 'numpy', 'pandas'])\n",
    "\n",
    "# Apply different case transformations\n",
    "uppercase_arr = np.char.upper(arr)\n",
    "lowercase_arr = np.char.lower(arr)\n",
    "titlecase_arr = np.char.title(arr)\n",
    "capitalize_arr = np.char.capitalize(arr)\n",
    "\n",
    "print(\"Original array:\")\n",
    "print(arr)\n",
    "\n",
    "print(\"\\nUppercase array:\")\n",
    "print(uppercase_arr)\n",
    "\n",
    "print(\"\\nLowercase array:\")\n",
    "print(lowercase_arr)\n",
    "\n",
    "print(\"\\nTitlecase array:\")\n",
    "print(titlecase_arr)\n",
    "\n",
    "print(\"\\nCapitalize array:\")\n",
    "print(capitalize_arr)\n"
   ]
  },
  {
   "cell_type": "markdown",
   "id": "789d6543-0f23-4ccd-9ae5-3d9b84a47064",
   "metadata": {},
   "source": [
    "Question 6 -  Generate a NumPy array of words. Insert a space between each character of every word in the array."
   ]
  },
  {
   "cell_type": "code",
   "execution_count": 34,
   "id": "61e6b2f2-6f81-4ffe-92a1-4f99db07207d",
   "metadata": {},
   "outputs": [
    {
     "name": "stdout",
     "output_type": "stream",
     "text": [
      "Original array:\n",
      "['hello' 'Ayush' 'here']\n",
      "\n",
      "Array with spaces between characters:\n",
      "['h e l l o' 'A y u s h' 'h e r e']\n"
     ]
    }
   ],
   "source": [
    "import numpy as np\n",
    "\n",
    "# Step 1: Create a NumPy array of words\n",
    "words_arr = np.array(['hello', 'Ayush', 'here'])\n",
    "\n",
    "# Step 2: Insert a space between each character of every word\n",
    "spaced_words_arr = np.char.join(' ', words_arr)\n",
    "\n",
    "print(\"Original array:\")\n",
    "print(words_arr)\n",
    "\n",
    "print(\"\\nArray with spaces between characters:\")\n",
    "print(spaced_words_arr)\n"
   ]
  },
  {
   "cell_type": "markdown",
   "id": "fc002bfe-cbe5-42ec-9f44-6484537bef5f",
   "metadata": {},
   "source": [
    "Question 7 -  Create two 2D NumPy arrays and perform element-wise addition, subtraction, multiplication, and division. "
   ]
  },
  {
   "cell_type": "code",
   "execution_count": 35,
   "id": "542e76fc-6e31-4fc6-9323-da3b1fb00870",
   "metadata": {},
   "outputs": [
    {
     "name": "stdout",
     "output_type": "stream",
     "text": [
      "Array 1:\n",
      "[[1 2 3]\n",
      " [4 5 6]]\n",
      "\n",
      "Array 2:\n",
      "[[ 7  8  9]\n",
      " [10 11 12]]\n",
      "\n",
      "Element-wise addition:\n",
      "[[ 8 10 12]\n",
      " [14 16 18]]\n",
      "\n",
      "Element-wise subtraction:\n",
      "[[-6 -6 -6]\n",
      " [-6 -6 -6]]\n",
      "\n",
      "Element-wise multiplication:\n",
      "[[ 7 16 27]\n",
      " [40 55 72]]\n",
      "\n",
      "Element-wise division:\n",
      "[[0.14285714 0.25       0.33333333]\n",
      " [0.4        0.45454545 0.5       ]]\n"
     ]
    }
   ],
   "source": [
    "import numpy as np\n",
    "\n",
    "# Step 1: Create two 2D NumPy arrays\n",
    "arr1 = np.array([[1, 2, 3], [4, 5, 6]])\n",
    "arr2 = np.array([[7, 8, 9], [10, 11, 12]])\n",
    "\n",
    "print(\"Array 1:\")\n",
    "print(arr1)\n",
    "\n",
    "print(\"\\nArray 2:\")\n",
    "print(arr2)\n",
    "\n",
    "# Step 2: Perform element-wise addition\n",
    "addition_result = arr1 + arr2\n",
    "print(\"\\nElement-wise addition:\")\n",
    "print(addition_result)\n",
    "\n",
    "# Perform element-wise subtraction\n",
    "subtraction_result = arr1 - arr2\n",
    "print(\"\\nElement-wise subtraction:\")\n",
    "print(subtraction_result)\n",
    "\n",
    "# Perform element-wise multiplication\n",
    "multiplication_result = arr1 * arr2\n",
    "print(\"\\nElement-wise multiplication:\")\n",
    "print(multiplication_result)\n",
    "\n",
    "# Perform element-wise division\n",
    "# Adding a small value to arr2 to avoid division by zero in practical cases\n",
    "division_result = arr1 / (arr2 + 1e-10)\n",
    "print(\"\\nElement-wise division:\")\n",
    "print(division_result)\n"
   ]
  },
  {
   "cell_type": "markdown",
   "id": "c4121cd9-4810-4a6f-aede-3c6b2157585d",
   "metadata": {},
   "source": [
    "Question.8 -  Use NumPy to create a 5x5 identity matrix, then extract its diagonal elements."
   ]
  },
  {
   "cell_type": "code",
   "execution_count": 36,
   "id": "a1e2f1b7-969b-470d-b3d4-ada207be25f1",
   "metadata": {},
   "outputs": [
    {
     "name": "stdout",
     "output_type": "stream",
     "text": [
      "5x5 Identity Matrix:\n",
      "[[1. 0. 0. 0. 0.]\n",
      " [0. 1. 0. 0. 0.]\n",
      " [0. 0. 1. 0. 0.]\n",
      " [0. 0. 0. 1. 0.]\n",
      " [0. 0. 0. 0. 1.]]\n",
      "\n",
      "Diagonal elements:\n",
      "[1. 1. 1. 1. 1.]\n"
     ]
    }
   ],
   "source": [
    "import numpy as np\n",
    "\n",
    "# Step 1: Create a 5x5 identity matrix\n",
    "identity_matrix = np.eye(5)\n",
    "print(\"5x5 Identity Matrix:\")\n",
    "print(identity_matrix)\n",
    "\n",
    "# Step 2: Extract the diagonal elements\n",
    "diagonal_elements = np.diag(identity_matrix)\n",
    "print(\"\\nDiagonal elements:\")\n",
    "print(diagonal_elements)\n"
   ]
  },
  {
   "cell_type": "markdown",
   "id": "240063f9-f57a-4b05-bf15-ebee2ace576e",
   "metadata": {},
   "source": [
    "Question 9 -  Generate a NumPy array of 100 random integers between 0 and 1000. Find and display all prime numbers in this array."
   ]
  },
  {
   "cell_type": "code",
   "execution_count": 37,
   "id": "ffafe775-592c-42ea-88a6-ac825918bb83",
   "metadata": {},
   "outputs": [
    {
     "name": "stdout",
     "output_type": "stream",
     "text": [
      "Array of random integers:\n",
      "[701  15  87 245 397 177 952 805 593 514 628 614 544 201  67 193 390 103\n",
      " 122 132 587 174 953  97 493 554 845 707 369 771 482 897 621 170 238 194\n",
      " 580 264  16 167 343 755 734 800 942 650 773 471 738 507 564 483 225 496\n",
      " 379 459 863  55 644 117 955  50 424 434 275 253 892 801 693 940 838 541\n",
      " 355 465 489 489 959 432 233  35 505 677 473  37  86 139 939 598 576 432\n",
      "  74 826  77  72 576 950  26 365  52 685]\n",
      "\n",
      "Prime numbers in the array:\n",
      "[701 397 593  67 193 103 587 953  97 167 773 379 863 541 233 677  37 139]\n"
     ]
    }
   ],
   "source": [
    "import numpy as np\n",
    "\n",
    "# Step 1: Generate a NumPy array of 100 random integers between 0 and 1000\n",
    "arr = np.random.randint(0, 1000, size=100)\n",
    "print(\"Array of random integers:\")\n",
    "print(arr)\n",
    "\n",
    "# Step 2: Define a function to check for prime numbers\n",
    "def is_prime(n):\n",
    "    if n <= 1:\n",
    "        return False\n",
    "    if n <= 3:\n",
    "        return True\n",
    "    if n % 2 == 0 or n % 3 == 0:\n",
    "        return False\n",
    "    i = 5\n",
    "    while i * i <= n:\n",
    "        if n % i == 0 or n % (i + 2) == 0:\n",
    "            return False\n",
    "        i += 6\n",
    "    return True\n",
    "\n",
    "# Step 3: Find and display all prime numbers in the array\n",
    "prime_numbers = np.array([num for num in arr if is_prime(num)])\n",
    "print(\"\\nPrime numbers in the array:\")\n",
    "print(prime_numbers)\n"
   ]
  },
  {
   "cell_type": "markdown",
   "id": "90ddf0b2-7610-472e-9c49-b8ab72445317",
   "metadata": {},
   "source": [
    "Question.10 -  Create a NumPy array representing daily temperatures for a month. Calculate and display the weekly averages."
   ]
  },
  {
   "cell_type": "code",
   "execution_count": 39,
   "id": "d19ae329-33ad-4008-9ba6-1edc9832da1a",
   "metadata": {},
   "outputs": [
    {
     "name": "stdout",
     "output_type": "stream",
     "text": [
      "Daily temperatures for the month:\n",
      "[18.5590848  18.85742337 11.47038374  2.25704293  7.09861244 26.67777979\n",
      " 20.91615372 26.94821528 24.71286644 26.49647649 24.85455444 28.29457722\n",
      " 32.46742851 17.37922465 24.25162347 10.54684503 38.01991149  8.554658\n",
      " 17.43326243 35.20681257 18.34833944 12.13318289 25.95261855  4.12848207\n",
      " 35.83126595 24.49538871 12.23800867 10.8444482  19.8093302  28.58874164]\n",
      "\n",
      "Temperatures reshaped into weeks (excluding extra days):\n",
      "[[18.5590848  18.85742337 11.47038374  2.25704293  7.09861244 26.67777979\n",
      "  20.91615372]\n",
      " [26.94821528 24.71286644 26.49647649 24.85455444 28.29457722 32.46742851\n",
      "  17.37922465]\n",
      " [24.25162347 10.54684503 38.01991149  8.554658   17.43326243 35.20681257\n",
      "  18.34833944]\n",
      " [12.13318289 25.95261855  4.12848207 35.83126595 24.49538871 12.23800867\n",
      "  10.8444482 ]]\n",
      "\n",
      "Weekly averages:\n",
      "[15.11949725 25.879049   21.76592178 17.94619929]\n",
      "\n",
      "Extra days (not included in full weeks):\n",
      "[19.8093302  28.58874164]\n"
     ]
    }
   ],
   "source": [
    "import numpy as np\n",
    "\n",
    "# Step 1: Create a NumPy array representing daily temperatures for a month (30 days)\n",
    "# Generate random temperatures between 0 and 40 degrees Celsius\n",
    "daily_temperatures = np.random.uniform(0, 40, size=30)\n",
    "print(\"Daily temperatures for the month:\")\n",
    "print(daily_temperatures)\n",
    "\n",
    "# Step 2: Reshape the array to separate weeks\n",
    "# We have 30 days, so we'll reshape it into 4 weeks of 7 days and 2 extra days\n",
    "weeks_count = 4\n",
    "days_per_week = 7\n",
    "\n",
    "# Create an array for full weeks and an extra part for the remaining days\n",
    "temperatures_full_weeks = daily_temperatures[:weeks_count * days_per_week].reshape(weeks_count, days_per_week)\n",
    "extra_days = daily_temperatures[weeks_count * days_per_week:]\n",
    "\n",
    "print(\"\\nTemperatures reshaped into weeks (excluding extra days):\")\n",
    "print(temperatures_full_weeks)\n",
    "\n",
    "# Step 3: Calculate the weekly averages\n",
    "weekly_averages = np.mean(temperatures_full_weeks, axis=1)\n",
    "print(\"\\nWeekly averages:\")\n",
    "print(weekly_averages)\n",
    "\n",
    "# Display extra days if there are any\n",
    "if len(extra_days) > 0:\n",
    "    print(\"\\nExtra days (not included in full weeks):\")\n",
    "    print(extra_days)\n"
   ]
  },
  {
   "cell_type": "code",
   "execution_count": null,
   "id": "abc0460f-4ee6-4749-b6c8-f39e89eb9c91",
   "metadata": {},
   "outputs": [],
   "source": []
  }
 ],
 "metadata": {
  "kernelspec": {
   "display_name": "Python 3 (ipykernel)",
   "language": "python",
   "name": "python3"
  },
  "language_info": {
   "codemirror_mode": {
    "name": "ipython",
    "version": 3
   },
   "file_extension": ".py",
   "mimetype": "text/x-python",
   "name": "python",
   "nbconvert_exporter": "python",
   "pygments_lexer": "ipython3",
   "version": "3.10.8"
  }
 },
 "nbformat": 4,
 "nbformat_minor": 5
}
